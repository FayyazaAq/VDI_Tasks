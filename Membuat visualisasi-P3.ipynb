{
 "cells": [
  {
   "cell_type": "markdown",
   "id": "20f959be",
   "metadata": {},
   "source": [
    "# Data Visualitation Methodology & Define Purpose and Parameters"
   ]
  },
  {
   "cell_type": "markdown",
   "id": "b49558bf",
   "metadata": {},
   "source": [
    "## Data yang Digunakan"
   ]
  },
  {
   "cell_type": "markdown",
   "id": "5fe5bac9",
   "metadata": {},
   "source": [
    "Data yang digunakan adalah data dari kaggle berjudul *'World Forest Area'* dengan satuan Km (Kilometer)."
   ]
  },
  {
   "cell_type": "code",
   "execution_count": 2,
   "id": "0de390ba",
   "metadata": {},
   "outputs": [],
   "source": [
    "# Memanggil library \n",
    "import pandas as pd"
   ]
  },
  {
   "cell_type": "code",
   "execution_count": 3,
   "id": "6bb27ecd",
   "metadata": {},
   "outputs": [],
   "source": [
    "# Memasukkan data yang akan digunakan\n",
    "forest_area = pd.read_csv(\"D:/00. MY FAMILY/FAYYAZA AQILA SA/itera/Semester 5/Data/forest_area_km.csv\")"
   ]
  },
  {
   "cell_type": "code",
   "execution_count": 4,
   "id": "604de59f",
   "metadata": {},
   "outputs": [
    {
     "data": {
      "text/html": [
       "<div>\n",
       "<style scoped>\n",
       "    .dataframe tbody tr th:only-of-type {\n",
       "        vertical-align: middle;\n",
       "    }\n",
       "\n",
       "    .dataframe tbody tr th {\n",
       "        vertical-align: top;\n",
       "    }\n",
       "\n",
       "    .dataframe thead th {\n",
       "        text-align: right;\n",
       "    }\n",
       "</style>\n",
       "<table border=\"1\" class=\"dataframe\">\n",
       "  <thead>\n",
       "    <tr style=\"text-align: right;\">\n",
       "      <th></th>\n",
       "      <th>Country Name</th>\n",
       "      <th>Country Code</th>\n",
       "      <th>1990</th>\n",
       "      <th>1991</th>\n",
       "      <th>1992</th>\n",
       "      <th>1993</th>\n",
       "      <th>1994</th>\n",
       "      <th>1995</th>\n",
       "      <th>1996</th>\n",
       "      <th>1997</th>\n",
       "      <th>...</th>\n",
       "      <th>2012</th>\n",
       "      <th>2013</th>\n",
       "      <th>2014</th>\n",
       "      <th>2015</th>\n",
       "      <th>2016</th>\n",
       "      <th>2017</th>\n",
       "      <th>2018</th>\n",
       "      <th>2019</th>\n",
       "      <th>2020</th>\n",
       "      <th>2021</th>\n",
       "    </tr>\n",
       "  </thead>\n",
       "  <tbody>\n",
       "    <tr>\n",
       "      <th>0</th>\n",
       "      <td>Afghanistan</td>\n",
       "      <td>AFG</td>\n",
       "      <td>12084.4</td>\n",
       "      <td>12084.40</td>\n",
       "      <td>12084.40</td>\n",
       "      <td>12084.40</td>\n",
       "      <td>12084.40</td>\n",
       "      <td>12084.4</td>\n",
       "      <td>12084.40</td>\n",
       "      <td>12084.40</td>\n",
       "      <td>...</td>\n",
       "      <td>12084.40</td>\n",
       "      <td>12084.400</td>\n",
       "      <td>12084.40</td>\n",
       "      <td>12084.400</td>\n",
       "      <td>12084.4</td>\n",
       "      <td>12084.400</td>\n",
       "      <td>12084.4</td>\n",
       "      <td>12084.4</td>\n",
       "      <td>12084.4</td>\n",
       "      <td>12084.400</td>\n",
       "    </tr>\n",
       "    <tr>\n",
       "      <th>1</th>\n",
       "      <td>Albania</td>\n",
       "      <td>ALB</td>\n",
       "      <td>7888.0</td>\n",
       "      <td>7868.50</td>\n",
       "      <td>7849.00</td>\n",
       "      <td>7829.50</td>\n",
       "      <td>7810.00</td>\n",
       "      <td>7790.5</td>\n",
       "      <td>7771.00</td>\n",
       "      <td>7751.50</td>\n",
       "      <td>...</td>\n",
       "      <td>7849.17</td>\n",
       "      <td>7863.405</td>\n",
       "      <td>7877.64</td>\n",
       "      <td>7891.875</td>\n",
       "      <td>7891.8</td>\n",
       "      <td>7889.025</td>\n",
       "      <td>7889.0</td>\n",
       "      <td>7889.0</td>\n",
       "      <td>7889.0</td>\n",
       "      <td>7889.000</td>\n",
       "    </tr>\n",
       "    <tr>\n",
       "      <th>2</th>\n",
       "      <td>Algeria</td>\n",
       "      <td>DZA</td>\n",
       "      <td>16670.0</td>\n",
       "      <td>16582.00</td>\n",
       "      <td>16494.00</td>\n",
       "      <td>16406.00</td>\n",
       "      <td>16318.00</td>\n",
       "      <td>16230.0</td>\n",
       "      <td>16142.00</td>\n",
       "      <td>16054.00</td>\n",
       "      <td>...</td>\n",
       "      <td>19332.00</td>\n",
       "      <td>19408.000</td>\n",
       "      <td>19484.00</td>\n",
       "      <td>19560.000</td>\n",
       "      <td>19560.0</td>\n",
       "      <td>19430.000</td>\n",
       "      <td>19300.0</td>\n",
       "      <td>19390.0</td>\n",
       "      <td>19490.0</td>\n",
       "      <td>19583.333</td>\n",
       "    </tr>\n",
       "    <tr>\n",
       "      <th>3</th>\n",
       "      <td>American Samoa</td>\n",
       "      <td>ASM</td>\n",
       "      <td>180.7</td>\n",
       "      <td>180.36</td>\n",
       "      <td>180.02</td>\n",
       "      <td>179.68</td>\n",
       "      <td>179.34</td>\n",
       "      <td>179.0</td>\n",
       "      <td>178.66</td>\n",
       "      <td>178.32</td>\n",
       "      <td>...</td>\n",
       "      <td>173.70</td>\n",
       "      <td>173.400</td>\n",
       "      <td>173.10</td>\n",
       "      <td>172.800</td>\n",
       "      <td>172.5</td>\n",
       "      <td>172.200</td>\n",
       "      <td>171.9</td>\n",
       "      <td>171.6</td>\n",
       "      <td>171.3</td>\n",
       "      <td>171.000</td>\n",
       "    </tr>\n",
       "    <tr>\n",
       "      <th>4</th>\n",
       "      <td>Andorra</td>\n",
       "      <td>AND</td>\n",
       "      <td>160.0</td>\n",
       "      <td>160.00</td>\n",
       "      <td>160.00</td>\n",
       "      <td>160.00</td>\n",
       "      <td>160.00</td>\n",
       "      <td>160.0</td>\n",
       "      <td>160.00</td>\n",
       "      <td>160.00</td>\n",
       "      <td>...</td>\n",
       "      <td>160.00</td>\n",
       "      <td>160.000</td>\n",
       "      <td>160.00</td>\n",
       "      <td>160.000</td>\n",
       "      <td>160.0</td>\n",
       "      <td>160.000</td>\n",
       "      <td>160.0</td>\n",
       "      <td>160.0</td>\n",
       "      <td>160.0</td>\n",
       "      <td>160.000</td>\n",
       "    </tr>\n",
       "  </tbody>\n",
       "</table>\n",
       "<p>5 rows × 34 columns</p>\n",
       "</div>"
      ],
      "text/plain": [
       "     Country Name Country Code     1990      1991      1992      1993  \\\n",
       "0     Afghanistan          AFG  12084.4  12084.40  12084.40  12084.40   \n",
       "1         Albania          ALB   7888.0   7868.50   7849.00   7829.50   \n",
       "2         Algeria          DZA  16670.0  16582.00  16494.00  16406.00   \n",
       "3  American Samoa          ASM    180.7    180.36    180.02    179.68   \n",
       "4         Andorra          AND    160.0    160.00    160.00    160.00   \n",
       "\n",
       "       1994     1995      1996      1997  ...      2012       2013      2014  \\\n",
       "0  12084.40  12084.4  12084.40  12084.40  ...  12084.40  12084.400  12084.40   \n",
       "1   7810.00   7790.5   7771.00   7751.50  ...   7849.17   7863.405   7877.64   \n",
       "2  16318.00  16230.0  16142.00  16054.00  ...  19332.00  19408.000  19484.00   \n",
       "3    179.34    179.0    178.66    178.32  ...    173.70    173.400    173.10   \n",
       "4    160.00    160.0    160.00    160.00  ...    160.00    160.000    160.00   \n",
       "\n",
       "        2015     2016       2017     2018     2019     2020       2021  \n",
       "0  12084.400  12084.4  12084.400  12084.4  12084.4  12084.4  12084.400  \n",
       "1   7891.875   7891.8   7889.025   7889.0   7889.0   7889.0   7889.000  \n",
       "2  19560.000  19560.0  19430.000  19300.0  19390.0  19490.0  19583.333  \n",
       "3    172.800    172.5    172.200    171.9    171.6    171.3    171.000  \n",
       "4    160.000    160.0    160.000    160.0    160.0    160.0    160.000  \n",
       "\n",
       "[5 rows x 34 columns]"
      ]
     },
     "execution_count": 4,
     "metadata": {},
     "output_type": "execute_result"
    }
   ],
   "source": [
    "# Menampilkan contoh data\n",
    "forest_area.head(5)"
   ]
  },
  {
   "cell_type": "markdown",
   "id": "7870a6c6",
   "metadata": {},
   "source": [
    "### Pembersihan Data"
   ]
  },
  {
   "cell_type": "code",
   "execution_count": 5,
   "id": "d527cbbc",
   "metadata": {},
   "outputs": [],
   "source": [
    "# Menghapus baris data yang memiliki Missing Value\n",
    "forest_area_clean = forest_area.dropna()"
   ]
  },
  {
   "cell_type": "code",
   "execution_count": 6,
   "id": "3f300056",
   "metadata": {},
   "outputs": [
    {
     "name": "stdout",
     "output_type": "stream",
     "text": [
      "<class 'pandas.core.frame.DataFrame'>\n",
      "Int64Index: 215 entries, 0 to 256\n",
      "Data columns (total 34 columns):\n",
      " #   Column        Non-Null Count  Dtype  \n",
      "---  ------        --------------  -----  \n",
      " 0   Country Name  215 non-null    object \n",
      " 1   Country Code  215 non-null    object \n",
      " 2   1990          215 non-null    float64\n",
      " 3   1991          215 non-null    float64\n",
      " 4   1992          215 non-null    float64\n",
      " 5   1993          215 non-null    float64\n",
      " 6   1994          215 non-null    float64\n",
      " 7   1995          215 non-null    float64\n",
      " 8   1996          215 non-null    float64\n",
      " 9   1997          215 non-null    float64\n",
      " 10  1998          215 non-null    float64\n",
      " 11  1999          215 non-null    float64\n",
      " 12  2000          215 non-null    float64\n",
      " 13  2001          215 non-null    float64\n",
      " 14  2002          215 non-null    float64\n",
      " 15  2003          215 non-null    float64\n",
      " 16  2004          215 non-null    float64\n",
      " 17  2005          215 non-null    float64\n",
      " 18  2006          215 non-null    float64\n",
      " 19  2007          215 non-null    float64\n",
      " 20  2008          215 non-null    float64\n",
      " 21  2009          215 non-null    float64\n",
      " 22  2010          215 non-null    float64\n",
      " 23  2011          215 non-null    float64\n",
      " 24  2012          215 non-null    float64\n",
      " 25  2013          215 non-null    float64\n",
      " 26  2014          215 non-null    float64\n",
      " 27  2015          215 non-null    float64\n",
      " 28  2016          215 non-null    float64\n",
      " 29  2017          215 non-null    float64\n",
      " 30  2018          215 non-null    float64\n",
      " 31  2019          215 non-null    float64\n",
      " 32  2020          215 non-null    float64\n",
      " 33  2021          215 non-null    float64\n",
      "dtypes: float64(32), object(2)\n",
      "memory usage: 58.8+ KB\n"
     ]
    }
   ],
   "source": [
    "# Melihat informasi dari data yang dibersihkan\n",
    "forest_area_clean.info()"
   ]
  },
  {
   "cell_type": "code",
   "execution_count": 7,
   "id": "af515b8d",
   "metadata": {},
   "outputs": [],
   "source": [
    "# Menghapus kolom yang tidak dibutuhkan\n",
    "forest_area_clean = forest_area_clean.drop(forest_area_clean.columns[1], axis=1)"
   ]
  },
  {
   "cell_type": "code",
   "execution_count": 8,
   "id": "064cc7d0",
   "metadata": {},
   "outputs": [
    {
     "name": "stdout",
     "output_type": "stream",
     "text": [
      "<class 'pandas.core.frame.DataFrame'>\n",
      "Int64Index: 215 entries, 0 to 256\n",
      "Data columns (total 33 columns):\n",
      " #   Column        Non-Null Count  Dtype  \n",
      "---  ------        --------------  -----  \n",
      " 0   Country Name  215 non-null    object \n",
      " 1   1990          215 non-null    float64\n",
      " 2   1991          215 non-null    float64\n",
      " 3   1992          215 non-null    float64\n",
      " 4   1993          215 non-null    float64\n",
      " 5   1994          215 non-null    float64\n",
      " 6   1995          215 non-null    float64\n",
      " 7   1996          215 non-null    float64\n",
      " 8   1997          215 non-null    float64\n",
      " 9   1998          215 non-null    float64\n",
      " 10  1999          215 non-null    float64\n",
      " 11  2000          215 non-null    float64\n",
      " 12  2001          215 non-null    float64\n",
      " 13  2002          215 non-null    float64\n",
      " 14  2003          215 non-null    float64\n",
      " 15  2004          215 non-null    float64\n",
      " 16  2005          215 non-null    float64\n",
      " 17  2006          215 non-null    float64\n",
      " 18  2007          215 non-null    float64\n",
      " 19  2008          215 non-null    float64\n",
      " 20  2009          215 non-null    float64\n",
      " 21  2010          215 non-null    float64\n",
      " 22  2011          215 non-null    float64\n",
      " 23  2012          215 non-null    float64\n",
      " 24  2013          215 non-null    float64\n",
      " 25  2014          215 non-null    float64\n",
      " 26  2015          215 non-null    float64\n",
      " 27  2016          215 non-null    float64\n",
      " 28  2017          215 non-null    float64\n",
      " 29  2018          215 non-null    float64\n",
      " 30  2019          215 non-null    float64\n",
      " 31  2020          215 non-null    float64\n",
      " 32  2021          215 non-null    float64\n",
      "dtypes: float64(32), object(1)\n",
      "memory usage: 57.1+ KB\n"
     ]
    }
   ],
   "source": [
    "#Melihat informasi data\n",
    "forest_area_clean.info()"
   ]
  },
  {
   "cell_type": "markdown",
   "id": "c7d5a1f4",
   "metadata": {},
   "source": [
    "## Tujuan dan fungsi Visualisasi"
   ]
  },
  {
   "cell_type": "markdown",
   "id": "ac1ca34d",
   "metadata": {},
   "source": [
    "Tujuan dibuatnya visualisasi ini adalah untuk menjelaskan informasi tentang seberapa banyak hutan di Indonesia (dalam satuan kilometer) berkurang setiap tahunnya kepada khalayak umum (*completely global*).\n",
    "Sedangkan fungsi dari visualisasi ini adalah untuk *explanatory* atau menjelaskan data.\n",
    "Karena visualisasi ini lebih menyorot kepada masalah, maka yang lebih baik menggunakan tone serius dengan warna gelap dan tegas."
   ]
  },
  {
   "cell_type": "markdown",
   "id": "3ee1fbf5",
   "metadata": {},
   "source": [
    "## Membuat Visualisasi Data"
   ]
  },
  {
   "cell_type": "markdown",
   "id": "f5df59ef",
   "metadata": {},
   "source": [
    "### Menyesuaikan bentuk data"
   ]
  },
  {
   "cell_type": "code",
   "execution_count": 9,
   "id": "317c4816",
   "metadata": {},
   "outputs": [],
   "source": [
    "# Melakukan transpose data\n",
    "forest_area_melt = pd.melt(forest_area_clean, id_vars='Country Name')"
   ]
  },
  {
   "cell_type": "code",
   "execution_count": 10,
   "id": "48f6a60a",
   "metadata": {},
   "outputs": [
    {
     "name": "stdout",
     "output_type": "stream",
     "text": [
      "<class 'pandas.core.frame.DataFrame'>\n",
      "RangeIndex: 6880 entries, 0 to 6879\n",
      "Data columns (total 3 columns):\n",
      " #   Column        Non-Null Count  Dtype  \n",
      "---  ------        --------------  -----  \n",
      " 0   Country Name  6880 non-null   object \n",
      " 1   variable      6880 non-null   object \n",
      " 2   value         6880 non-null   float64\n",
      "dtypes: float64(1), object(2)\n",
      "memory usage: 161.4+ KB\n"
     ]
    }
   ],
   "source": [
    "# Melihat informasi data yang di transpose\n",
    "forest_area_melt.info()"
   ]
  },
  {
   "cell_type": "code",
   "execution_count": 11,
   "id": "ba95519b",
   "metadata": {},
   "outputs": [],
   "source": [
    "# Mengubah tipe data yang di transpose\n",
    "forest_area_melt['variable'] = forest_area_melt['variable'].astype(int)"
   ]
  },
  {
   "cell_type": "code",
   "execution_count": 12,
   "id": "e46ac2d8",
   "metadata": {},
   "outputs": [],
   "source": [
    "# Mengubah nama variabel dalam data\n",
    "forest_area_melt = forest_area_melt.rename(columns={'Country Name':'Negara', 'variable':'Tahun', 'value':'Lahan'})"
   ]
  },
  {
   "cell_type": "code",
   "execution_count": 13,
   "id": "bd7a38cc",
   "metadata": {},
   "outputs": [
    {
     "name": "stdout",
     "output_type": "stream",
     "text": [
      "<class 'pandas.core.frame.DataFrame'>\n",
      "RangeIndex: 6880 entries, 0 to 6879\n",
      "Data columns (total 3 columns):\n",
      " #   Column  Non-Null Count  Dtype  \n",
      "---  ------  --------------  -----  \n",
      " 0   Negara  6880 non-null   object \n",
      " 1   Tahun   6880 non-null   int32  \n",
      " 2   Lahan   6880 non-null   float64\n",
      "dtypes: float64(1), int32(1), object(1)\n",
      "memory usage: 134.5+ KB\n"
     ]
    }
   ],
   "source": [
    "# Melihat informasi dari data\n",
    "forest_area_melt.info()"
   ]
  },
  {
   "cell_type": "code",
   "execution_count": 14,
   "id": "d2ad5252",
   "metadata": {},
   "outputs": [],
   "source": [
    "# Memilih data yang akan digunakan\n",
    "Kolombia = forest_area_melt.loc[forest_area_melt['Negara']=='Colombia']\n",
    "Brasil = forest_area_melt.loc[forest_area_melt['Negara']=='Brasil']\n",
    "Gabon = forest_area_melt.loc[forest_area_melt['Negara']=='Gabon']\n",
    "Kenya = forest_area_melt.loc[forest_area_melt['Negara']=='Kenya']\n",
    "Somalia = forest_area_melt.loc[forest_area_melt['Negara']=='Somalia']\n",
    "Uganda = forest_area_melt.loc[forest_area_melt['Negara']=='Uganda']\n",
    "Indonesia = forest_area_melt.loc[forest_area_melt['Negara']=='Indonesia']\n",
    "Kiribati = forest_area_melt.loc[forest_area_melt['Negara']=='Kiribati']"
   ]
  },
  {
   "cell_type": "markdown",
   "id": "ecdb2098",
   "metadata": {},
   "source": [
    "### Membuat Visualisasi"
   ]
  },
  {
   "cell_type": "code",
   "execution_count": 16,
   "id": "34006dad",
   "metadata": {},
   "outputs": [],
   "source": [
    "# Memanggil library yang digunakan untuk visualisasi\n",
    "from matplotlib import pyplot as plt"
   ]
  },
  {
   "cell_type": "code",
   "execution_count": 17,
   "id": "3900b488",
   "metadata": {},
   "outputs": [],
   "source": [
    "# Memilih tone yang akan digunakan\n",
    "plt.style.use('dark_background')"
   ]
  },
  {
   "cell_type": "code",
   "execution_count": 19,
   "id": "ac39fb8b",
   "metadata": {},
   "outputs": [
    {
     "data": {
      "image/png": "[encoded data removed]",
      "text/plain": [
       "<Figure size 640x480 with 1 Axes>"
      ]
     },
     "metadata": {},
     "output_type": "display_data"
    }
   ],
   "source": [
    "# Membuat plot visualisasi\n",
    "\n",
    "plt.plot(Kolombia.Tahun, ((Kolombia.Lahan.iloc[0]-Kolombia.Lahan)/Kolombia.Lahan)*100, 'o', ls='-')\n",
    "plt.plot(Gabon.Tahun, ((Gabon.Lahan.iloc[0]-Gabon.Lahan)/Gabon.Lahan)*100, 'o', ls='-')\n",
    "plt.plot(Kenya.Tahun, ((Kenya.Lahan.iloc[0]-Kenya.Lahan)/Kenya.Lahan)*100, 'o', ls='-')\n",
    "plt.plot(Somalia.Tahun, ((Somalia.Lahan.iloc[0]-Somalia.Lahan)/Somalia.Lahan)*100, 'o', ls='-')\n",
    "plt.plot(Uganda.Tahun, ((Uganda.Lahan.iloc[0]-Uganda.Lahan)/Uganda.Lahan)*100, 'o', ls='-')\n",
    "plt.plot(Indonesia.Tahun, ((Indonesia.Lahan.iloc[0]-Indonesia.Lahan)/Indonesia.Lahan)*100, 'o', ls='-')\n",
    "plt.plot(Kiribati.Tahun, ((Kiribati.Lahan.iloc[0]-Kiribati.Lahan)/Kiribati.Lahan)*100, 'o', ls='-')\n",
    "\n",
    "plt.legend(['Kolombia', 'Gabon', 'Kenya', 'Somalia', 'Uganda', 'Indonesia', 'Kiribati'])\n",
    "\n",
    "plt.title(\"Perbandingan Persentase Deforestasi Negara Khatulistiwa\")\n",
    "plt.xlabel(\"Tahun\")\n",
    "plt.ylabel(\"Persentase Deforestasi (%)\")\n",
    "\n",
    "plt.show()"
   ]
  }
 ],
 "metadata": {
  "kernelspec": {
   "display_name": "Python 3 (ipykernel)",
   "language": "python",
   "name": "python3"
  },
  "language_info": {
   "codemirror_mode": {
    "name": "ipython",
    "version": 3
   },
   "file_extension": ".py",
   "mimetype": "text/x-python",
   "name": "python",
   "nbconvert_exporter": "python",
   "pygments_lexer": "ipython3",
   "version": "3.11.4"
  }
 },
 "nbformat": 4,
 "nbformat_minor": 5
}
